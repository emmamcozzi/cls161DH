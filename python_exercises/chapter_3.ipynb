{
 "cells": [
  {
   "cell_type": "markdown",
   "id": "2b2b92d9",
   "metadata": {},
   "source": [
    "# chapter 3 homework"
   ]
  },
  {
   "cell_type": "markdown",
   "id": "388d609c",
   "metadata": {},
   "source": [
    "3-1"
   ]
  },
  {
   "cell_type": "code",
   "execution_count": 1,
   "id": "26d1cc71",
   "metadata": {},
   "outputs": [],
   "source": [
    "names = [\"Hazel\", \"Adrienne\",  \"Olivia\", \"Phoebe\", \"Celia\"]"
   ]
  },
  {
   "cell_type": "code",
   "execution_count": 2,
   "id": "e05d87b3",
   "metadata": {},
   "outputs": [
    {
     "name": "stdout",
     "output_type": "stream",
     "text": [
      "Hazel\n",
      "Adrienne\n",
      "Olivia\n",
      "Phoebe\n",
      "Celia\n"
     ]
    }
   ],
   "source": [
    "print(names[0])\n",
    "print(names[1])\n",
    "print(names[2])\n",
    "print(names[3])\n",
    "print(names[4])"
   ]
  },
  {
   "cell_type": "markdown",
   "id": "7abc1bf2",
   "metadata": {},
   "source": [
    "3-2"
   ]
  },
  {
   "cell_type": "code",
   "execution_count": 4,
   "id": "6fed3c5a",
   "metadata": {},
   "outputs": [],
   "source": [
    "message = 'I love you, '"
   ]
  },
  {
   "cell_type": "code",
   "execution_count": 7,
   "id": "0e308bc9",
   "metadata": {},
   "outputs": [
    {
     "name": "stdout",
     "output_type": "stream",
     "text": [
      "I love you, Hazel\n",
      "I love you, Adrienne\n",
      "I love you, Olivia\n",
      "I love you, Phoebe\n",
      "I love you, Celia\n"
     ]
    }
   ],
   "source": [
    "print(message + names[0])\n",
    "print(message + names[1])\n",
    "print(message + names[2])\n",
    "print(message + names[3])\n",
    "print(message + names[4])"
   ]
  },
  {
   "cell_type": "markdown",
   "id": "6be74786",
   "metadata": {},
   "source": [
    "3-3"
   ]
  },
  {
   "cell_type": "code",
   "execution_count": 9,
   "id": "563a115e",
   "metadata": {},
   "outputs": [],
   "source": [
    "transport = [\"sailboat\", \"kayak\", \"canoe\", \"rowboat\"]"
   ]
  },
  {
   "cell_type": "code",
   "execution_count": 11,
   "id": "1f3c1982",
   "metadata": {},
   "outputs": [
    {
     "name": "stdout",
     "output_type": "stream",
     "text": [
      "Jack took me out in a sailboat\n",
      "I went down the river in a kayak\n",
      "There's a canoe in the backyard\n",
      "I've never been in a rowboat\n"
     ]
    }
   ],
   "source": [
    "print(\"Jack took me out in a \" + transport[0])\n",
    "print(\"I went down the river in a \" + transport[1])\n",
    "print(\"There's a \" + transport[2] + \" in the backyard\")\n",
    "print(\"I've never been in a \" + transport[3])"
   ]
  },
  {
   "cell_type": "markdown",
   "id": "2e649f76",
   "metadata": {},
   "source": [
    "3-4"
   ]
  },
  {
   "cell_type": "code",
   "execution_count": 58,
   "id": "125b2149",
   "metadata": {},
   "outputs": [],
   "source": [
    "guestList = [\"Grandpa Bill\", \"Olivia\", \"Professor Saxton\"]"
   ]
  },
  {
   "cell_type": "code",
   "execution_count": 59,
   "id": "019c7a70",
   "metadata": {},
   "outputs": [
    {
     "name": "stdout",
     "output_type": "stream",
     "text": [
      "Would you like to come for dinner, Grandpa Bill\n",
      "Would you like to come for dinner, Olivia\n",
      "Would you like to come for dinner, Professor Saxton\n"
     ]
    }
   ],
   "source": [
    "message = \"Would you like to come for dinner, \"\n",
    "print(message + guestList[0])\n",
    "print(message + guestList[1])\n",
    "print(message + guestList[2])"
   ]
  },
  {
   "cell_type": "markdown",
   "id": "cfd0891d",
   "metadata": {},
   "source": [
    "3-5"
   ]
  },
  {
   "cell_type": "code",
   "execution_count": 60,
   "id": "bad85429",
   "metadata": {},
   "outputs": [
    {
     "name": "stdout",
     "output_type": "stream",
     "text": [
      "Professor Saxton can't make it to dinner.\n",
      "Would you like to come for dinner, Grandpa Bill\n",
      "Would you like to come for dinner, Olivia\n",
      "Would you like to come for dinner, Tony Monaco\n"
     ]
    }
   ],
   "source": [
    "print(guestList[2] + \" can't make it to dinner.\")\n",
    "guestList.remove(\"Professor Saxton\")\n",
    "guestList.append(\"Tony Monaco\")\n",
    "\n",
    "print(message + guestList[0])\n",
    "print(message + guestList[1])\n",
    "print(message + guestList[2])"
   ]
  },
  {
   "cell_type": "code",
   "execution_count": 61,
   "id": "6bb80d85",
   "metadata": {},
   "outputs": [
    {
     "name": "stdout",
     "output_type": "stream",
     "text": [
      "Would you like to come for dinner, Grandpa Bill\n",
      "Would you like to come for dinner, Olivia\n",
      "Would you like to come for dinner, Tony Monaco\n",
      "I found a bigger dinner table!\n"
     ]
    }
   ],
   "source": [
    "print(message + guestList[0])\n",
    "print(message + guestList[1])\n",
    "print(message + guestList[2])\n",
    "print(\"I found a bigger dinner table!\")\n",
    "\n"
   ]
  },
  {
   "cell_type": "code",
   "execution_count": 62,
   "id": "e41e90af",
   "metadata": {},
   "outputs": [],
   "source": [
    "guestList.append(\"Taylor Swift\")\n",
    "guestList.insert(0, \"Adrienne\")\n",
    "guestList.insert(1, \"Mom\")"
   ]
  },
  {
   "cell_type": "code",
   "execution_count": 63,
   "id": "fe17fda3",
   "metadata": {},
   "outputs": [
    {
     "name": "stdout",
     "output_type": "stream",
     "text": [
      "Would you like to come for dinner, Adrienne\n",
      "Would you like to come for dinner, Mom\n",
      "Would you like to come for dinner, Grandpa Bill\n",
      "Would you like to come for dinner, Olivia\n",
      "Would you like to come for dinner, Tony Monaco\n",
      "Would you like to come for dinner, Taylor Swift\n"
     ]
    }
   ],
   "source": [
    "print(message + guestList[0])\n",
    "print(message + guestList[1])\n",
    "print(message + guestList[2])\n",
    "print(message + guestList[3])\n",
    "print(message + guestList[4])\n",
    "print(message + guestList[5])"
   ]
  },
  {
   "cell_type": "code",
   "execution_count": 64,
   "id": "27ee83f8",
   "metadata": {},
   "outputs": [
    {
     "name": "stdout",
     "output_type": "stream",
     "text": [
      "Would you like to come for dinner, Adrienne\n",
      "Would you like to come for dinner, Mom\n",
      "Would you like to come for dinner, Grandpa Bill\n",
      "Would you like to come for dinner, Olivia\n",
      "Would you like to come for dinner, Tony Monaco\n",
      "Would you like to come for dinner, Taylor Swift\n",
      "I only have room for two!\n",
      "Sorry you can't come, Taylor Swift\n",
      "Sorry you can't come, Tony Monaco\n",
      "Sorry you can't come, Olivia\n",
      "Sorry you can't come, Grandpa Bill\n",
      "You're still invited, Adrienne and Mom\n"
     ]
    }
   ],
   "source": [
    "print(message + guestList[0])\n",
    "print(message + guestList[1])\n",
    "print(message + guestList[2])\n",
    "print(message + guestList[3])\n",
    "print(message + guestList[4])\n",
    "print(message + guestList[5])\n",
    "print(\"I only have room for two!\")\n",
    "\n",
    "uninvited = guestList.pop()\n",
    "print(\"Sorry you can't come, \" + uninvited)\n",
    "uninvited = guestList.pop()\n",
    "print(\"Sorry you can't come, \" + uninvited)\n",
    "uninvited = guestList.pop()\n",
    "print(\"Sorry you can't come, \" + uninvited)\n",
    "uninvited = guestList.pop()\n",
    "print(\"Sorry you can't come, \" + uninvited)\n",
    "\n",
    "print(\"You're still invited, \" + guestList[0] + \" and \" + guestList[1])"
   ]
  },
  {
   "cell_type": "code",
   "execution_count": 65,
   "id": "757bbf9e",
   "metadata": {},
   "outputs": [],
   "source": [
    "del guestList[1]\n",
    "del guestList[0]"
   ]
  },
  {
   "cell_type": "code",
   "execution_count": 66,
   "id": "9727fb71",
   "metadata": {},
   "outputs": [
    {
     "name": "stdout",
     "output_type": "stream",
     "text": [
      "[]\n"
     ]
    }
   ],
   "source": [
    "print(guestList)"
   ]
  },
  {
   "cell_type": "markdown",
   "id": "f025955d",
   "metadata": {},
   "source": [
    "3-8"
   ]
  },
  {
   "cell_type": "code",
   "execution_count": 84,
   "id": "eb7a488f",
   "metadata": {},
   "outputs": [],
   "source": [
    "places = [\"Blue Ridge Mountains\", \"Vancouver\", \"Tokyo\", \"Arizona\", \"Tasty Cafe\"]"
   ]
  },
  {
   "cell_type": "code",
   "execution_count": 85,
   "id": "c19f0e19",
   "metadata": {},
   "outputs": [
    {
     "name": "stdout",
     "output_type": "stream",
     "text": [
      "['Blue Ridge Mountains', 'Vancouver', 'Tokyo', 'Arizona', 'Tasty Cafe']\n"
     ]
    }
   ],
   "source": [
    "print(places)"
   ]
  },
  {
   "cell_type": "code",
   "execution_count": 86,
   "id": "15f1c6e2",
   "metadata": {},
   "outputs": [
    {
     "name": "stdout",
     "output_type": "stream",
     "text": [
      "['Arizona', 'Blue Ridge Mountains', 'Tasty Cafe', 'Tokyo', 'Vancouver']\n",
      "['Blue Ridge Mountains', 'Vancouver', 'Tokyo', 'Arizona', 'Tasty Cafe']\n",
      "['Vancouver', 'Tokyo', 'Tasty Cafe', 'Blue Ridge Mountains', 'Arizona']\n",
      "['Blue Ridge Mountains', 'Vancouver', 'Tokyo', 'Arizona', 'Tasty Cafe']\n"
     ]
    }
   ],
   "source": [
    "print(sorted(places))\n",
    "print(places)\n",
    "print(sorted(places, reverse=True))\n",
    "print(places)"
   ]
  },
  {
   "cell_type": "code",
   "execution_count": 87,
   "id": "fddf3f53",
   "metadata": {},
   "outputs": [
    {
     "name": "stdout",
     "output_type": "stream",
     "text": [
      "['Tasty Cafe', 'Arizona', 'Tokyo', 'Vancouver', 'Blue Ridge Mountains']\n",
      "['Blue Ridge Mountains', 'Vancouver', 'Tokyo', 'Arizona', 'Tasty Cafe']\n",
      "['Arizona', 'Blue Ridge Mountains', 'Tasty Cafe', 'Tokyo', 'Vancouver']\n",
      "['Vancouver', 'Tokyo', 'Tasty Cafe', 'Blue Ridge Mountains', 'Arizona']\n"
     ]
    }
   ],
   "source": [
    "places.reverse()\n",
    "print(places)\n",
    "places.reverse()\n",
    "print(places)\n",
    "places.sort()\n",
    "print(places)\n",
    "places.sort(reverse=True)\n",
    "print(places)"
   ]
  },
  {
   "cell_type": "markdown",
   "id": "93f2783c",
   "metadata": {},
   "source": []
  }
 ],
 "metadata": {
  "kernelspec": {
   "display_name": "Python 3 (ipykernel)",
   "language": "python",
   "name": "python3"
  },
  "language_info": {
   "codemirror_mode": {
    "name": "ipython",
    "version": 3
   },
   "file_extension": ".py",
   "mimetype": "text/x-python",
   "name": "python",
   "nbconvert_exporter": "python",
   "pygments_lexer": "ipython3",
   "version": "3.11.4"
  }
 },
 "nbformat": 4,
 "nbformat_minor": 5
}
