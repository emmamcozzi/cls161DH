{
 "cells": [
  {
   "cell_type": "markdown",
   "id": "691ca95c",
   "metadata": {},
   "source": [
    "# chapter 8 homework"
   ]
  },
  {
   "cell_type": "markdown",
   "id": "d78e4541",
   "metadata": {},
   "source": [
    "8-1"
   ]
  },
  {
   "cell_type": "code",
   "execution_count": 1,
   "id": "99735a27",
   "metadata": {},
   "outputs": [],
   "source": [
    "def display_message():\n",
    "    \"\"\"a simple message\"\"\"\n",
    "    print(\"I'm learning about how to write functions in Python!\")"
   ]
  },
  {
   "cell_type": "code",
   "execution_count": 2,
   "id": "877d04fb",
   "metadata": {},
   "outputs": [
    {
     "name": "stdout",
     "output_type": "stream",
     "text": [
      "I'm learning about how to write functions in Python!\n"
     ]
    }
   ],
   "source": [
    "display_message()"
   ]
  },
  {
   "cell_type": "markdown",
   "id": "bda6ce0c",
   "metadata": {},
   "source": [
    "8-2"
   ]
  },
  {
   "cell_type": "code",
   "execution_count": null,
   "id": "6d679d4d",
   "metadata": {},
   "outputs": [],
   "source": [
    "\n",
    "8-2. Favorite Book: Write a function called favorite_book() that accepts one\n",
    "parameter, title. The function should print a message, such as One of my\n",
    "favorite books is Alice in Wonderland. Call the function, making sure to\n",
    "include a book title as an argument in the function call."
   ]
  },
  {
   "cell_type": "code",
   "execution_count": 3,
   "id": "d1f57280",
   "metadata": {},
   "outputs": [],
   "source": [
    "def favorite_book(title):\n",
    "    print(\"my very favorite book is \" + title.title())"
   ]
  },
  {
   "cell_type": "code",
   "execution_count": 5,
   "id": "91375ed0",
   "metadata": {},
   "outputs": [
    {
     "name": "stdout",
     "output_type": "stream",
     "text": [
      "my very favorite book is Harry Potter\n"
     ]
    }
   ],
   "source": [
    "favorite_book(\"harry potter\")"
   ]
  },
  {
   "cell_type": "markdown",
   "id": "c63281ff",
   "metadata": {},
   "source": [
    "8-3"
   ]
  },
  {
   "cell_type": "code",
   "execution_count": 6,
   "id": "b8686ac4",
   "metadata": {},
   "outputs": [],
   "source": [
    "def make_shirt(size, message):\n",
    "    print(\"you made a t-shirt, size \" + size + \" with the message '\" + message + \"'\")"
   ]
  },
  {
   "cell_type": "code",
   "execution_count": 7,
   "id": "a4d8cabc",
   "metadata": {},
   "outputs": [
    {
     "name": "stdout",
     "output_type": "stream",
     "text": [
      "you made a t-shirt, size small with the message 'this is my t-shirt'\n"
     ]
    }
   ],
   "source": [
    "make_shirt(\"small\", \"this is my t-shirt\")"
   ]
  },
  {
   "cell_type": "code",
   "execution_count": 8,
   "id": "5222e9ea",
   "metadata": {},
   "outputs": [
    {
     "name": "stdout",
     "output_type": "stream",
     "text": [
      "you made a t-shirt, size small with the message 'this is my OTHER t-shirt'\n"
     ]
    }
   ],
   "source": [
    "make_shirt(size=\"small\", message=\"this is my OTHER t-shirt\")"
   ]
  },
  {
   "cell_type": "markdown",
   "id": "b5af4782",
   "metadata": {},
   "source": [
    "8-5"
   ]
  },
  {
   "cell_type": "code",
   "execution_count": 11,
   "id": "4c0c1df9",
   "metadata": {},
   "outputs": [],
   "source": [
    "def describe_city(city, country='canada'):\n",
    "    print(city.title() + \" is in \" + country.title())"
   ]
  },
  {
   "cell_type": "code",
   "execution_count": 12,
   "id": "5816958f",
   "metadata": {},
   "outputs": [
    {
     "name": "stdout",
     "output_type": "stream",
     "text": [
      "Vancouver is in Canada\n",
      "Toronto is in Canada\n",
      "Chicago is in United States\n"
     ]
    }
   ],
   "source": [
    "describe_city(\"vancouver\")\n",
    "describe_city(\"toronto\")\n",
    "describe_city(\"chicago\", country=\"united states\")"
   ]
  },
  {
   "cell_type": "markdown",
   "id": "023a95de",
   "metadata": {},
   "source": [
    "8-6"
   ]
  },
  {
   "cell_type": "code",
   "execution_count": 13,
   "id": "ee94c019",
   "metadata": {},
   "outputs": [],
   "source": [
    "def city_country(city, country):\n",
    "    city = city.title() + \", \" + country.title()\n",
    "    return city"
   ]
  },
  {
   "cell_type": "code",
   "execution_count": 14,
   "id": "db4db869",
   "metadata": {},
   "outputs": [
    {
     "name": "stdout",
     "output_type": "stream",
     "text": [
      "Tucson, United States\n"
     ]
    }
   ],
   "source": [
    "f_city = city_country('tucson', 'united states')\n",
    "print(f_city)"
   ]
  },
  {
   "cell_type": "code",
   "execution_count": 15,
   "id": "fc404d77",
   "metadata": {},
   "outputs": [
    {
     "name": "stdout",
     "output_type": "stream",
     "text": [
      "Berlin, Germany\n",
      "Edinburgh, Scotland\n"
     ]
    }
   ],
   "source": [
    "f_city1 = city_country('berlin', 'germany')\n",
    "f_city2 = city_country('edinburgh', 'scotland')\n",
    "print(f_city1)\n",
    "print(f_city2)"
   ]
  },
  {
   "cell_type": "markdown",
   "id": "4f2ff668",
   "metadata": {},
   "source": [
    "8-7"
   ]
  },
  {
   "cell_type": "code",
   "execution_count": 24,
   "id": "0904962a",
   "metadata": {},
   "outputs": [],
   "source": [
    "def make_album(name, title, num_tracks=''):\n",
    "    if num_tracks:\n",
    "        album = {\"artist\": name, \"record\": title, \"number of tracks\":num_tracks}\n",
    "    else: \n",
    "        album = {\"artist\": name, \"record\": title}\n",
    "    return album"
   ]
  },
  {
   "cell_type": "code",
   "execution_count": 22,
   "id": "c2eac340",
   "metadata": {},
   "outputs": [
    {
     "name": "stdout",
     "output_type": "stream",
     "text": [
      "{'artist': 'taylor swift', 'record': 'red'}\n",
      "{'artist': 'pink floyd', 'record': 'dark side of the moon'}\n"
     ]
    }
   ],
   "source": [
    "red = make_album(\"taylor swift\", \"red\")\n",
    "pink = make_album(\"pink floyd\", \"dark side of the moon\")\n",
    "print(red)\n",
    "print(pink)"
   ]
  },
  {
   "cell_type": "code",
   "execution_count": 25,
   "id": "5fe9998c",
   "metadata": {},
   "outputs": [],
   "source": [
    "blue = make_album(\"grateful dead\", \"workingman's dead\", 8)"
   ]
  },
  {
   "cell_type": "code",
   "execution_count": 26,
   "id": "26226e8f",
   "metadata": {},
   "outputs": [
    {
     "name": "stdout",
     "output_type": "stream",
     "text": [
      "{'artist': 'grateful dead', 'record': \"workingman's dead\", 'number of tracks': 8}\n"
     ]
    }
   ],
   "source": [
    "print(blue)"
   ]
  }
 ],
 "metadata": {
  "kernelspec": {
   "display_name": "Python 3 (ipykernel)",
   "language": "python",
   "name": "python3"
  },
  "language_info": {
   "codemirror_mode": {
    "name": "ipython",
    "version": 3
   },
   "file_extension": ".py",
   "mimetype": "text/x-python",
   "name": "python",
   "nbconvert_exporter": "python",
   "pygments_lexer": "ipython3",
   "version": "3.11.4"
  }
 },
 "nbformat": 4,
 "nbformat_minor": 5
}
