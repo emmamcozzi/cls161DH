{
 "cells": [
  {
   "cell_type": "markdown",
   "id": "fb3d38e1",
   "metadata": {},
   "source": [
    "# chapter 6 homework"
   ]
  },
  {
   "cell_type": "markdown",
   "id": "7ef7310e",
   "metadata": {},
   "source": []
  },
  {
   "cell_type": "markdown",
   "id": "db66c882",
   "metadata": {},
   "source": [
    "6-1"
   ]
  },
  {
   "cell_type": "code",
   "execution_count": 3,
   "id": "80531e8c",
   "metadata": {},
   "outputs": [],
   "source": [
    "person = {\"first_name\":\"hazel\", \"last_name\":\"scullin\", \"age\":\"20\", \"city\":\"somerville\"}"
   ]
  },
  {
   "cell_type": "code",
   "execution_count": 4,
   "id": "65babb16",
   "metadata": {},
   "outputs": [
    {
     "name": "stdout",
     "output_type": "stream",
     "text": [
      "hazel scullin 20 somerville\n"
     ]
    }
   ],
   "source": [
    "print(person['first_name'] + ' ' + person['last_name'] + ' ' + person['age'] + ' ' + person['city'])\n"
   ]
  },
  {
   "cell_type": "markdown",
   "id": "fc566b0a",
   "metadata": {},
   "source": [
    "6-2"
   ]
  },
  {
   "cell_type": "code",
   "execution_count": 7,
   "id": "883ec6be",
   "metadata": {},
   "outputs": [],
   "source": [
    "favorite_number = {'emma':4,\n",
    "                   'hazel':12,\n",
    "                   'adrienne':5,\n",
    "                   'jaden':1,\n",
    "                   'olivia':100}"
   ]
  },
  {
   "cell_type": "code",
   "execution_count": 8,
   "id": "df37ebab",
   "metadata": {},
   "outputs": [
    {
     "name": "stdout",
     "output_type": "stream",
     "text": [
      "4\n",
      "12\n",
      "5\n",
      "1\n",
      "100\n"
     ]
    }
   ],
   "source": [
    "print(favorite_number['emma'])\n",
    "print(favorite_number['hazel'])\n",
    "print(favorite_number['adrienne'])\n",
    "print(favorite_number['jaden'])\n",
    "print(favorite_number['olivia'])"
   ]
  },
  {
   "cell_type": "markdown",
   "id": "fb0775fc",
   "metadata": {},
   "source": [
    "6-3"
   ]
  },
  {
   "cell_type": "code",
   "execution_count": 21,
   "id": "8579d1d3",
   "metadata": {},
   "outputs": [],
   "source": [
    "glossary = {'variable':'a piece of data stored under a certain name', \n",
    "            'list':'a data structure in python for storing multiple objects', \n",
    "            'dictionary':'a data structure in python for storing key-value pairs', \n",
    "            'key-value':'a pair of data with one key term and the information that goes with it', \n",
    "            'object':'a unique piece of data',\n",
    "            'boolean':\"a variable with the value true or false\",\n",
    "            'conditional':\"a statement that depends upon a certain condition\",\n",
    "            'method':\"a function in python that performs a certain operation\",\n",
    "            'elif': \"a conditional check to try a second option\",\n",
    "            'tuple':\"a list in python that cannot be changed\"}"
   ]
  },
  {
   "cell_type": "code",
   "execution_count": 13,
   "id": "b04f3ac7",
   "metadata": {},
   "outputs": [
    {
     "name": "stdout",
     "output_type": "stream",
     "text": [
      "variable: a piece of data stored under a certain name\n",
      "list: a data structure in python for storing multiple objects\n",
      "dictionary: a data structure in python for storing key-value pairs\n",
      "key-value: a pair of data with one key term and the information that goes with it\n",
      "object: a unique piece of data\n"
     ]
    }
   ],
   "source": [
    "print(\"variable: \" + glossary['variable'])\n",
    "print(\"list: \" + glossary['list'])\n",
    "print(\"dictionary: \" + glossary['dictionary'])\n",
    "print('key-value: ' + glossary['key-value'])\n",
    "print('object: ' + glossary['object'])"
   ]
  },
  {
   "cell_type": "markdown",
   "id": "b05fb045",
   "metadata": {},
   "source": [
    "6-4"
   ]
  },
  {
   "cell_type": "code",
   "execution_count": 22,
   "id": "60e3c36d",
   "metadata": {},
   "outputs": [
    {
     "name": "stdout",
     "output_type": "stream",
     "text": [
      "variable: a piece of data stored under a certain name\n",
      "list: a data structure in python for storing multiple objects\n",
      "dictionary: a data structure in python for storing key-value pairs\n",
      "key-value: a pair of data with one key term and the information that goes with it\n",
      "object: a unique piece of data\n",
      "boolean: a variable with the value true or false\n",
      "conditional: a statement that depends upon a certain condition\n",
      "method: a function in python that performs a certain operation\n",
      "elif: a conditional check to try a second option\n",
      "tuple: a list in python that cannot be changed\n"
     ]
    }
   ],
   "source": [
    "for key, value in glossary.items():\n",
    "    print(key + \": \" + value)"
   ]
  },
  {
   "cell_type": "markdown",
   "id": "e92f85e6",
   "metadata": {},
   "source": [
    "6-5"
   ]
  },
  {
   "cell_type": "code",
   "execution_count": 23,
   "id": "ba79f804",
   "metadata": {},
   "outputs": [],
   "source": [
    "rivers = {\"amazon\":\"brazil\", \"seine\":\"france\", \"yellow river\":\"china\", \"mississippi\":\"usa\", \"yukon\":\"canada\"}"
   ]
  },
  {
   "cell_type": "code",
   "execution_count": 24,
   "id": "0348f0b2",
   "metadata": {},
   "outputs": [
    {
     "name": "stdout",
     "output_type": "stream",
     "text": [
      "amazon\n",
      "seine\n",
      "yellow river\n",
      "mississippi\n",
      "yukon\n",
      "brazil\n",
      "france\n",
      "china\n",
      "usa\n",
      "canada\n",
      "the amazon runs through brazil\n",
      "the seine runs through france\n",
      "the yellow river runs through china\n",
      "the mississippi runs through usa\n",
      "the yukon runs through canada\n"
     ]
    }
   ],
   "source": [
    "for river in rivers.keys():\n",
    "    print(river)\n",
    "for country in rivers.values():\n",
    "    print(country)\n",
    "for r, c in rivers.items():\n",
    "    print(\"the \" + r + \" runs through \" + c)"
   ]
  },
  {
   "cell_type": "markdown",
   "id": "bdcedadb",
   "metadata": {},
   "source": [
    "6-7"
   ]
  },
  {
   "cell_type": "code",
   "execution_count": 25,
   "id": "05d955c8",
   "metadata": {},
   "outputs": [],
   "source": [
    "person_2 = {\"first_name\":\"emma\", \"last_name\":\"cozzi\", \"age\":\"20\", \"city\":\"somerville\"}\n",
    "person_3 = {\"first_name\":\"adrienne\", \"last_name\":\"mermin\", \"age\":\"20\", \"city\":\"somerville\"}"
   ]
  },
  {
   "cell_type": "code",
   "execution_count": 26,
   "id": "8aef680e",
   "metadata": {},
   "outputs": [
    {
     "name": "stdout",
     "output_type": "stream",
     "text": [
      "{'first_name': 'hazel', 'last_name': 'scullin', 'age': '20', 'city': 'somerville'}\n",
      "{'first_name': 'emma', 'last_name': 'cozzi', 'age': '20', 'city': 'somerville'}\n",
      "{'first_name': 'adrienne', 'last_name': 'mermin', 'age': '20', 'city': 'somerville'}\n"
     ]
    }
   ],
   "source": [
    "people = [person, person_2, person_3]\n",
    "for person in people:\n",
    "    print(person)"
   ]
  },
  {
   "cell_type": "markdown",
   "id": "461f320f",
   "metadata": {},
   "source": [
    " 6-8"
   ]
  },
  {
   "cell_type": "code",
   "execution_count": 28,
   "id": "1f2ca1cc",
   "metadata": {},
   "outputs": [],
   "source": [
    "clark = {\"type\":\"shiba inu\", \"owner\":\"emma\"}\n",
    "addie = {\"type\":\"shiba inu\", \"owner\":\"emma\"}\n",
    "juno = {\"type\":\"little brown dog\", \"owner\":\"hazel\"}\n",
    "pets = [clark, addie, juno]"
   ]
  },
  {
   "cell_type": "code",
   "execution_count": 29,
   "id": "3eb7caf7",
   "metadata": {},
   "outputs": [
    {
     "name": "stdout",
     "output_type": "stream",
     "text": [
      "{'type': 'shiba inu', 'owner': 'emma'}\n",
      "{'type': 'shiba inu', 'owner': 'emma'}\n",
      "{'type': 'little brown dog', 'owner': 'hazel'}\n"
     ]
    }
   ],
   "source": [
    "for pet in pets:\n",
    "    print(pet)"
   ]
  },
  {
   "cell_type": "markdown",
   "id": "d7cb825e",
   "metadata": {},
   "source": [
    "6-9"
   ]
  },
  {
   "cell_type": "code",
   "execution_count": 30,
   "id": "bb4abb56",
   "metadata": {},
   "outputs": [],
   "source": [
    "favorite_places = {\"hazel\":\"canada\", \"emma\":\"talloires\", \"adrienne\":\"mount tam\"}"
   ]
  },
  {
   "cell_type": "code",
   "execution_count": 31,
   "id": "20fec969",
   "metadata": {},
   "outputs": [
    {
     "name": "stdout",
     "output_type": "stream",
     "text": [
      "hazel's favorite place in the world is canada\n",
      "emma's favorite place in the world is talloires\n",
      "adrienne's favorite place in the world is mount tam\n"
     ]
    }
   ],
   "source": [
    "for person, place in favorite_places.items():\n",
    "    print(person + \"'s favorite place in the world is \" + place)"
   ]
  },
  {
   "cell_type": "markdown",
   "id": "99f38792",
   "metadata": {},
   "source": [
    "6-11"
   ]
  },
  {
   "cell_type": "code",
   "execution_count": 33,
   "id": "9bf5506b",
   "metadata": {},
   "outputs": [],
   "source": [
    "cities = {\n",
    "    \"chicago\": {\n",
    "        \"country\":\"usa\", \n",
    "        \"population\": \"2.7 million\", \n",
    "        \"fun fact\":\"the bean's real name is the 'cloud gate'\"},\n",
    "    \"paris\": {\n",
    "        \"country\":\"france\", \n",
    "        \"population\": \"2.1 million\" , \n",
    "        \"fun fact\":\"the neighborhoods are in the shape of a snail\"},\n",
    "    \"tucson\": {\n",
    "        \"country\":\"usa\", \n",
    "        \"population\": \"half a million\" , \n",
    "        \"fun fact\":\"it's a unesco world city of gastronomy\"}\n",
    "}"
   ]
  },
  {
   "cell_type": "code",
   "execution_count": 35,
   "id": "bfeb0b99",
   "metadata": {},
   "outputs": [
    {
     "name": "stdout",
     "output_type": "stream",
     "text": [
      "chicago information: \n",
      "country: usa\n",
      "population: 2.7 million\n",
      "fun fact: the bean's real name is the 'cloud gate'\n",
      "paris information: \n",
      "country: france\n",
      "population: 2.1 million\n",
      "fun fact: the neighborhoods are in the shape of a snail\n",
      "tucson information: \n",
      "country: usa\n",
      "population: half a million\n",
      "fun fact: it's a unesco world city of gastronomy\n"
     ]
    }
   ],
   "source": [
    "for city, info in cities.items():\n",
    "    print(city + \" information: \")\n",
    "    for name, stats in info.items():\n",
    "        print(name + \": \" + stats)"
   ]
  },
  {
   "cell_type": "code",
   "execution_count": null,
   "id": "672162ff",
   "metadata": {},
   "outputs": [],
   "source": []
  }
 ],
 "metadata": {
  "kernelspec": {
   "display_name": "Python 3 (ipykernel)",
   "language": "python",
   "name": "python3"
  },
  "language_info": {
   "codemirror_mode": {
    "name": "ipython",
    "version": 3
   },
   "file_extension": ".py",
   "mimetype": "text/x-python",
   "name": "python",
   "nbconvert_exporter": "python",
   "pygments_lexer": "ipython3",
   "version": "3.11.4"
  }
 },
 "nbformat": 4,
 "nbformat_minor": 5
}
