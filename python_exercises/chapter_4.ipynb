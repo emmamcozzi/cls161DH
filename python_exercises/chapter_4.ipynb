{
 "cells": [
  {
   "cell_type": "markdown",
   "id": "ed545231",
   "metadata": {},
   "source": [
    "# chapter 4 homework"
   ]
  },
  {
   "cell_type": "markdown",
   "id": "71299cd8",
   "metadata": {},
   "source": [
    "4-1"
   ]
  },
  {
   "cell_type": "code",
   "execution_count": 1,
   "id": "6713326a",
   "metadata": {},
   "outputs": [],
   "source": [
    "pizzas = ['pesto', 'margherita', 'pepperoni']"
   ]
  },
  {
   "cell_type": "code",
   "execution_count": 3,
   "id": "57ae7463",
   "metadata": {},
   "outputs": [
    {
     "name": "stdout",
     "output_type": "stream",
     "text": [
      "pesto\n",
      "margherita\n",
      "pepperoni\n"
     ]
    }
   ],
   "source": [
    "for pizza in pizzas:\n",
    "    print(pizza)"
   ]
  },
  {
   "cell_type": "code",
   "execution_count": 7,
   "id": "0e4e4240",
   "metadata": {},
   "outputs": [
    {
     "name": "stdout",
     "output_type": "stream",
     "text": [
      "I love eating pesto pizza\n",
      "I love eating margherita pizza\n",
      "I love eating pepperoni pizza\n",
      "I just really like pizza\n"
     ]
    }
   ],
   "source": [
    "for pizza in pizzas:\n",
    "    print(\"I love eating \" + pizza + \" pizza\")\n",
    "print(\"I just really like pizza\")"
   ]
  },
  {
   "cell_type": "markdown",
   "id": "5895cdd0",
   "metadata": {},
   "source": [
    "4-2"
   ]
  },
  {
   "cell_type": "code",
   "execution_count": 8,
   "id": "51d524d6",
   "metadata": {},
   "outputs": [],
   "source": [
    "animals = ['cow', 'sheep', 'goat']"
   ]
  },
  {
   "cell_type": "code",
   "execution_count": 9,
   "id": "fb37f24f",
   "metadata": {},
   "outputs": [
    {
     "name": "stdout",
     "output_type": "stream",
     "text": [
      "cow milk makes good cheese\n",
      "sheep milk makes good cheese\n",
      "goat milk makes good cheese\n",
      "lots of animals can make cheese\n"
     ]
    }
   ],
   "source": [
    "for animal in animals:\n",
    "    print(animal + \" milk makes good cheese\")\n",
    "print(\"lots of animals can make cheese\")"
   ]
  },
  {
   "cell_type": "markdown",
   "id": "cbbb9f88",
   "metadata": {},
   "source": [
    "4-3"
   ]
  },
  {
   "cell_type": "code",
   "execution_count": 13,
   "id": "9cb767bb",
   "metadata": {},
   "outputs": [
    {
     "name": "stdout",
     "output_type": "stream",
     "text": [
      "1\n",
      "2\n",
      "3\n",
      "4\n",
      "5\n",
      "6\n",
      "7\n",
      "8\n",
      "9\n",
      "10\n",
      "11\n",
      "12\n",
      "13\n",
      "14\n",
      "15\n",
      "16\n",
      "17\n",
      "18\n",
      "19\n",
      "20\n"
     ]
    }
   ],
   "source": [
    "numbers = [value for value in range(1, 21)]\n",
    "for number in numbers:\n",
    "    print(number)"
   ]
  },
  {
   "cell_type": "markdown",
   "id": "3acb79b3",
   "metadata": {},
   "source": [
    "4-6"
   ]
  },
  {
   "cell_type": "code",
   "execution_count": 14,
   "id": "60760d2d",
   "metadata": {},
   "outputs": [
    {
     "name": "stdout",
     "output_type": "stream",
     "text": [
      "1\n",
      "3\n",
      "5\n",
      "7\n",
      "9\n",
      "11\n",
      "13\n",
      "15\n",
      "17\n",
      "19\n"
     ]
    }
   ],
   "source": [
    "oddNumbers = [value for value in range(1, 20, 2)]\n",
    "for numberr in oddNumbers:\n",
    "    print(numberr)"
   ]
  },
  {
   "cell_type": "markdown",
   "id": "0c4f09b0",
   "metadata": {},
   "source": [
    "4-10"
   ]
  },
  {
   "cell_type": "code",
   "execution_count": 18,
   "id": "1066b8c3",
   "metadata": {},
   "outputs": [
    {
     "name": "stdout",
     "output_type": "stream",
     "text": [
      "1\n",
      "3\n",
      "5\n",
      "7\n",
      "9\n",
      "11\n",
      "13\n",
      "15\n",
      "17\n",
      "19\n",
      "The first three items in the list are: \n",
      "[1, 3, 5]\n",
      "Three items from the middle of the list are: \n",
      "[9, 11, 13]\n",
      "The last three items in the list are: \n",
      "[15, 17, 19]\n"
     ]
    }
   ],
   "source": [
    "oddNumbers = [value for value in range(1, 20, 2)]\n",
    "for numberr in oddNumbers:\n",
    "    print(numberr)\n",
    "    \n",
    "print(\"The first three items in the list are: \")\n",
    "print(oddNumbers[:3])\n",
    "print(\"Three items from the middle of the list are: \")\n",
    "print(oddNumbers[4:7])\n",
    "print(\"The last three items in the list are: \")\n",
    "print(oddNumbers[-3:])"
   ]
  },
  {
   "cell_type": "markdown",
   "id": "a9e06555",
   "metadata": {},
   "source": [
    "4-11"
   ]
  },
  {
   "cell_type": "code",
   "execution_count": 19,
   "id": "d5c8d63a",
   "metadata": {},
   "outputs": [],
   "source": [
    "friend_pizzas = pizzas[:]"
   ]
  },
  {
   "cell_type": "code",
   "execution_count": 20,
   "id": "e29f2faa",
   "metadata": {},
   "outputs": [
    {
     "name": "stdout",
     "output_type": "stream",
     "text": [
      "my favorite pizzas are: \n",
      "pesto\n",
      "margherita\n",
      "pepperoni\n",
      "chicken\n",
      "my friends' favorite pizzas are: \n",
      "pesto\n",
      "margherita\n",
      "pepperoni\n",
      "broccoli\n"
     ]
    }
   ],
   "source": [
    "pizzas.append(\"chicken\")\n",
    "friend_pizzas.append(\"broccoli\")\n",
    "\n",
    "print(\"my favorite pizzas are: \")\n",
    "for pizza1 in pizzas:\n",
    "    print(pizza1)\n",
    "    \n",
    "    \n",
    "print(\"my friends' favorite pizzas are: \")\n",
    "for pizza2 in friend_pizzas:\n",
    "    print(pizza2)"
   ]
  },
  {
   "cell_type": "code",
   "execution_count": null,
   "id": "67e5f0e9",
   "metadata": {},
   "outputs": [],
   "source": []
  }
 ],
 "metadata": {
  "kernelspec": {
   "display_name": "Python 3 (ipykernel)",
   "language": "python",
   "name": "python3"
  },
  "language_info": {
   "codemirror_mode": {
    "name": "ipython",
    "version": 3
   },
   "file_extension": ".py",
   "mimetype": "text/x-python",
   "name": "python",
   "nbconvert_exporter": "python",
   "pygments_lexer": "ipython3",
   "version": "3.11.4"
  }
 },
 "nbformat": 4,
 "nbformat_minor": 5
}
