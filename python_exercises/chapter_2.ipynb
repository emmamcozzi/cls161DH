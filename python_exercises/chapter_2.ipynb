{
 "cells": [
  {
   "cell_type": "markdown",
   "id": "03673ac6",
   "metadata": {},
   "source": [
    "# chapter 2 homework"
   ]
  },
  {
   "cell_type": "markdown",
   "id": "94cf6bfa",
   "metadata": {},
   "source": [
    "2-1"
   ]
  },
  {
   "cell_type": "code",
   "execution_count": 1,
   "id": "9a9296a2",
   "metadata": {},
   "outputs": [],
   "source": [
    "my_message = \"a certain string\""
   ]
  },
  {
   "cell_type": "code",
   "execution_count": 2,
   "id": "f89033da",
   "metadata": {},
   "outputs": [
    {
     "name": "stdout",
     "output_type": "stream",
     "text": [
      "a certain string\n"
     ]
    }
   ],
   "source": [
    "print(my_message)"
   ]
  },
  {
   "cell_type": "markdown",
   "id": "20d0fc3a",
   "metadata": {},
   "source": [
    "2-2"
   ]
  },
  {
   "cell_type": "code",
   "execution_count": 32,
   "id": "9dbc6039",
   "metadata": {},
   "outputs": [],
   "source": [
    "my_message2 = \"a different certain string\"\n",
    "#something tells me this might change"
   ]
  },
  {
   "cell_type": "code",
   "execution_count": 4,
   "id": "d8c7ddcb",
   "metadata": {},
   "outputs": [
    {
     "name": "stdout",
     "output_type": "stream",
     "text": [
      "a different certain string\n"
     ]
    }
   ],
   "source": [
    "print(my_message2)"
   ]
  },
  {
   "cell_type": "code",
   "execution_count": 5,
   "id": "0f1cd320",
   "metadata": {},
   "outputs": [],
   "source": [
    "my_message2 = \"a third string\""
   ]
  },
  {
   "cell_type": "code",
   "execution_count": 6,
   "id": "50b2c5fe",
   "metadata": {},
   "outputs": [
    {
     "name": "stdout",
     "output_type": "stream",
     "text": [
      "a third string\n"
     ]
    }
   ],
   "source": [
    "print(my_message2)"
   ]
  },
  {
   "cell_type": "markdown",
   "id": "f6c5097f",
   "metadata": {},
   "source": [
    "2-3"
   ]
  },
  {
   "cell_type": "code",
   "execution_count": 12,
   "id": "21c0a2e1",
   "metadata": {},
   "outputs": [],
   "source": [
    "name = \"jack\""
   ]
  },
  {
   "cell_type": "code",
   "execution_count": 13,
   "id": "7d458352",
   "metadata": {},
   "outputs": [
    {
     "name": "stdout",
     "output_type": "stream",
     "text": [
      "Hi, jack, do you want to have dinner tonight?\n"
     ]
    }
   ],
   "source": [
    "print(\"Hi, \" + name + \", do you want to have dinner tonight?\")"
   ]
  },
  {
   "cell_type": "markdown",
   "id": "570635bb",
   "metadata": {},
   "source": [
    "2-4"
   ]
  },
  {
   "cell_type": "code",
   "execution_count": 14,
   "id": "5396afed",
   "metadata": {},
   "outputs": [
    {
     "name": "stdout",
     "output_type": "stream",
     "text": [
      "Jack\n",
      "JACK\n",
      "jack\n"
     ]
    }
   ],
   "source": [
    "print(name.title())\n",
    "print(name.upper())\n",
    "print(name.lower())"
   ]
  },
  {
   "cell_type": "markdown",
   "id": "614ba7be",
   "metadata": {},
   "source": [
    "2-5"
   ]
  },
  {
   "cell_type": "code",
   "execution_count": 15,
   "id": "4ca12614",
   "metadata": {},
   "outputs": [
    {
     "name": "stdout",
     "output_type": "stream",
     "text": [
      "Arthur C. Clarke said, \"When a distinguished but elderly scientist states that something is possible, he is almost certainly right. When he states that something is impossible, he is very probably wrong.\"\n"
     ]
    }
   ],
   "source": [
    "print('Arthur C. Clarke said, \"When a distinguished but elderly scientist states that something is possible, he is almost certainly right. When he states that something is impossible, he is very probably wrong.\"')"
   ]
  },
  {
   "cell_type": "markdown",
   "id": "2167522a",
   "metadata": {},
   "source": [
    "2-6"
   ]
  },
  {
   "cell_type": "code",
   "execution_count": 16,
   "id": "55e8b062",
   "metadata": {},
   "outputs": [],
   "source": [
    "famous_person = \"Arthur C. Clarke\""
   ]
  },
  {
   "cell_type": "code",
   "execution_count": 17,
   "id": "c8083600",
   "metadata": {},
   "outputs": [],
   "source": [
    "message = \"When a distinguished but elderly scientist states that something is possible, he is almost certainly right. When he states that something is impossible, he is very probably wrong.\""
   ]
  },
  {
   "cell_type": "code",
   "execution_count": 20,
   "id": "713b3a65",
   "metadata": {},
   "outputs": [
    {
     "name": "stdout",
     "output_type": "stream",
     "text": [
      "Arthur C. Clarke said, \"When a distinguished but elderly scientist states that something is possible, he is almost certainly right. When he states that something is impossible, he is very probably wrong.\"\n"
     ]
    }
   ],
   "source": [
    "print(famous_person + ' said, \"' + message + '\"')"
   ]
  },
  {
   "cell_type": "markdown",
   "id": "30a0694c",
   "metadata": {},
   "source": [
    "2-7"
   ]
  },
  {
   "cell_type": "code",
   "execution_count": 29,
   "id": "8df7d340",
   "metadata": {},
   "outputs": [],
   "source": [
    "spaced_name = \" Jack   A.\\n    White\""
   ]
  },
  {
   "cell_type": "code",
   "execution_count": 30,
   "id": "324dbf52",
   "metadata": {},
   "outputs": [
    {
     "name": "stdout",
     "output_type": "stream",
     "text": [
      " Jack   A.\n",
      "    White\n"
     ]
    }
   ],
   "source": [
    "print(spaced_name)"
   ]
  },
  {
   "cell_type": "code",
   "execution_count": 31,
   "id": "a53c0a9d",
   "metadata": {},
   "outputs": [
    {
     "name": "stdout",
     "output_type": "stream",
     "text": [
      " Jack   A.\n",
      "    White\n",
      "Jack   A.\n",
      "    White\n",
      "Jack   A.\n",
      "    White\n"
     ]
    }
   ],
   "source": [
    "print(spaced_name.rstrip())\n",
    "print(spaced_name.lstrip())\n",
    "print(spaced_name.strip())"
   ]
  },
  {
   "cell_type": "code",
   "execution_count": 33,
   "id": "b5a0d904",
   "metadata": {},
   "outputs": [],
   "source": [
    "#comments in python? how do I add to the TOP of my jupyter notebook?"
   ]
  },
  {
   "cell_type": "markdown",
   "id": "e01cd317",
   "metadata": {},
   "source": [
    "2-10 above"
   ]
  },
  {
   "cell_type": "code",
   "execution_count": null,
   "id": "08e7666f",
   "metadata": {},
   "outputs": [],
   "source": []
  }
 ],
 "metadata": {
  "kernelspec": {
   "display_name": "Python 3 (ipykernel)",
   "language": "python",
   "name": "python3"
  },
  "language_info": {
   "codemirror_mode": {
    "name": "ipython",
    "version": 3
   },
   "file_extension": ".py",
   "mimetype": "text/x-python",
   "name": "python",
   "nbconvert_exporter": "python",
   "pygments_lexer": "ipython3",
   "version": "3.11.4"
  }
 },
 "nbformat": 4,
 "nbformat_minor": 5
}
