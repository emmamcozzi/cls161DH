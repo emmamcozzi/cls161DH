{
 "cells": [
  {
   "cell_type": "markdown",
   "id": "b64e879c",
   "metadata": {},
   "source": [
    "this is my first jupyter notebook"
   ]
  },
  {
   "cell_type": "markdown",
   "id": "837f176c",
   "metadata": {},
   "source": [
    "# greeting"
   ]
  },
  {
   "cell_type": "code",
   "execution_count": 1,
   "id": "6c6ad3f9",
   "metadata": {},
   "outputs": [
    {
     "name": "stdout",
     "output_type": "stream",
     "text": [
      "hello world, again\n"
     ]
    }
   ],
   "source": [
    "print(\"hello world, again\")"
   ]
  },
  {
   "cell_type": "markdown",
   "id": "124feba6",
   "metadata": {},
   "source": [
    "# variables"
   ]
  },
  {
   "cell_type": "code",
   "execution_count": 3,
   "id": "f7d05b58",
   "metadata": {},
   "outputs": [],
   "source": [
    "greeting = \"hello, world!\""
   ]
  },
  {
   "cell_type": "code",
   "execution_count": 4,
   "id": "8d6fb737",
   "metadata": {},
   "outputs": [
    {
     "name": "stdout",
     "output_type": "stream",
     "text": [
      "hello, world!\n"
     ]
    }
   ],
   "source": [
    "print(greeting)"
   ]
  },
  {
   "cell_type": "markdown",
   "id": "ad97b1bd",
   "metadata": {},
   "source": [
    "# string"
   ]
  },
  {
   "cell_type": "code",
   "execution_count": 5,
   "id": "8a5d3f69",
   "metadata": {},
   "outputs": [
    {
     "name": "stdout",
     "output_type": "stream",
     "text": [
      "this is a string\n"
     ]
    }
   ],
   "source": [
    "s_example1 = \"this is a string\"\n",
    "print(s_example1)"
   ]
  },
  {
   "cell_type": "code",
   "execution_count": 6,
   "id": "dd01e562",
   "metadata": {},
   "outputs": [
    {
     "name": "stdout",
     "output_type": "stream",
     "text": [
      "this is also a string\n"
     ]
    }
   ],
   "source": [
    "s_example2 = 'this is also a string'\n",
    "print(s_example2)"
   ]
  },
  {
   "cell_type": "code",
   "execution_count": 8,
   "id": "f4c3a1ed",
   "metadata": {},
   "outputs": [],
   "source": [
    "historian = \"edward gibbon\""
   ]
  },
  {
   "cell_type": "code",
   "execution_count": 9,
   "id": "c23408a4",
   "metadata": {},
   "outputs": [
    {
     "name": "stdout",
     "output_type": "stream",
     "text": [
      "edward gibbon\n"
     ]
    }
   ],
   "source": [
    "print(historian)"
   ]
  },
  {
   "cell_type": "code",
   "execution_count": 10,
   "id": "e3877165",
   "metadata": {},
   "outputs": [
    {
     "name": "stdout",
     "output_type": "stream",
     "text": [
      "Edward Gibbon\n"
     ]
    }
   ],
   "source": [
    "print(historian.title())"
   ]
  },
  {
   "cell_type": "code",
   "execution_count": null,
   "id": "2872f743",
   "metadata": {},
   "outputs": [],
   "source": []
  }
 ],
 "metadata": {
  "kernelspec": {
   "display_name": "Python 3 (ipykernel)",
   "language": "python",
   "name": "python3"
  },
  "language_info": {
   "codemirror_mode": {
    "name": "ipython",
    "version": 3
   },
   "file_extension": ".py",
   "mimetype": "text/x-python",
   "name": "python",
   "nbconvert_exporter": "python",
   "pygments_lexer": "ipython3",
   "version": "3.11.4"
  }
 },
 "nbformat": 4,
 "nbformat_minor": 5
}
