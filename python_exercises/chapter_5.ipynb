{
 "cells": [
  {
   "cell_type": "markdown",
   "id": "af4ef77a",
   "metadata": {},
   "source": [
    "# chapter 5 homework"
   ]
  },
  {
   "cell_type": "markdown",
   "id": "0e10db8b",
   "metadata": {},
   "source": [
    "5-1"
   ]
  },
  {
   "cell_type": "code",
   "execution_count": 1,
   "id": "7f863383",
   "metadata": {},
   "outputs": [],
   "source": [
    "Stove = \"off\"\n",
    "Oven = \"off\"\n",
    "Sink = \"on\""
   ]
  },
  {
   "cell_type": "code",
   "execution_count": 3,
   "id": "5ab10d0a",
   "metadata": {},
   "outputs": [
    {
     "name": "stdout",
     "output_type": "stream",
     "text": [
      "Is the stove on? I dont think so\n",
      "False\n",
      "Did I leave the oven on? I don't think so\n",
      "False\n",
      "I definitely left the sink running\n",
      "True\n"
     ]
    }
   ],
   "source": [
    "print(\"Is the stove on? I dont think so\")\n",
    "print(Stove == \"on\")\n",
    "print(\"Did I leave the oven on? I don't think so\")\n",
    "print(Oven == \"on\")\n",
    "print(\"I definitely left the sink running\")\n",
    "print(Sink == \"on\")"
   ]
  },
  {
   "cell_type": "code",
   "execution_count": 4,
   "id": "60739e42",
   "metadata": {},
   "outputs": [
    {
     "name": "stdout",
     "output_type": "stream",
     "text": [
      "is Adrienne away?\n",
      "False\n",
      "is Hazel away?\n",
      "True\n",
      "is Jaden away?\n",
      "False\n",
      "is Emma away?\n",
      "False\n",
      "is Adrienne home?\n",
      "True\n",
      "is Hazel home?\n",
      "False\n",
      "is Jaden home?\n",
      "True\n",
      "is Emma home?\n",
      "True\n"
     ]
    }
   ],
   "source": [
    "Adrienne = \"home\"\n",
    "Hazel = \"away\"\n",
    "Jaden = \"home\"\n",
    "Emma = \"home\"\n",
    "print(\"is Adrienne away?\")\n",
    "print (Adrienne == \"away\")\n",
    "print(\"is Hazel away?\")\n",
    "print (Hazel== \"away\")\n",
    "print(\"is Jaden away?\")\n",
    "print (Jaden == \"away\")\n",
    "print(\"is Emma away?\")\n",
    "print (Emma== \"away\")\n",
    "print(\"is Adrienne home?\")\n",
    "print (Adrienne== \"home\")\n",
    "print(\"is Hazel home?\")\n",
    "print (Hazel== \"home\")\n",
    "print(\"is Jaden home?\")\n",
    "print (Jaden== \"home\")\n",
    "print(\"is Emma home?\")\n",
    "print (Emma== \"home\")"
   ]
  },
  {
   "cell_type": "markdown",
   "id": "f54f81e2",
   "metadata": {},
   "source": [
    "5-2"
   ]
  },
  {
   "cell_type": "code",
   "execution_count": 6,
   "id": "448d3271",
   "metadata": {},
   "outputs": [
    {
     "data": {
      "text/plain": [
       "False"
      ]
     },
     "execution_count": 6,
     "metadata": {},
     "output_type": "execute_result"
    }
   ],
   "source": [
    "(2 > 4) and (5 > 4)"
   ]
  },
  {
   "cell_type": "code",
   "execution_count": 7,
   "id": "e08322d1",
   "metadata": {},
   "outputs": [
    {
     "data": {
      "text/plain": [
       "True"
      ]
     },
     "execution_count": 7,
     "metadata": {},
     "output_type": "execute_result"
    }
   ],
   "source": [
    "(2 > 4) or (5 > 4)"
   ]
  },
  {
   "cell_type": "code",
   "execution_count": 9,
   "id": "ac0fefeb",
   "metadata": {},
   "outputs": [
    {
     "name": "stdout",
     "output_type": "stream",
     "text": [
      "False\n",
      "True\n"
     ]
    }
   ],
   "source": [
    "roommates = [\"Hazel\", \"adrienne\", \"jaden\"]\n",
    "print(roommates[0] == \"hazel\")\n",
    "print(roommates[0].lower() == \"hazel\")"
   ]
  },
  {
   "cell_type": "code",
   "execution_count": 11,
   "id": "a29d8f17",
   "metadata": {},
   "outputs": [
    {
     "name": "stdout",
     "output_type": "stream",
     "text": [
      "Hazel lives with you\n",
      "margaret does not live with you\n"
     ]
    }
   ],
   "source": [
    "friend1 = \"Hazel\"\n",
    "if friend1 in roommates:\n",
    "    print(friend1 + \" lives with you\")\n",
    "else:\n",
    "    print(friend1 + \" does not live with you\")\n",
    "    \n",
    "    \n",
    "friend2 = \"margaret\"\n",
    "if friend2 not in roommates:\n",
    "    print(friend2 + \" does not live with you\")\n",
    "else: \n",
    "    print(friend2 + \" lives with you\")"
   ]
  },
  {
   "cell_type": "markdown",
   "id": "74b88c94",
   "metadata": {},
   "source": [
    "5-6"
   ]
  },
  {
   "cell_type": "code",
   "execution_count": 12,
   "id": "6eb3a03d",
   "metadata": {},
   "outputs": [
    {
     "name": "stdout",
     "output_type": "stream",
     "text": [
      "you're a kid!\n"
     ]
    }
   ],
   "source": [
    "age = 7\n",
    "if (age < 2):\n",
    "    print(\"you're a baby!\")\n",
    "elif (age < 4):\n",
    "    print(\"you're a toddler!\")\n",
    "elif (age < 13):\n",
    "    print(\"you're a kid!\")\n",
    "elif (age < 20):\n",
    "    print(\"you're a teenager\")\n",
    "elif (age < 65):\n",
    "    print(\"you're an adult!\")\n",
    "else:\n",
    "    print(\"you're an elder!\")"
   ]
  },
  {
   "cell_type": "markdown",
   "id": "5e86d4ab",
   "metadata": {},
   "source": [
    "5-7"
   ]
  },
  {
   "cell_type": "code",
   "execution_count": 13,
   "id": "1a7ffabe",
   "metadata": {},
   "outputs": [
    {
     "name": "stdout",
     "output_type": "stream",
     "text": [
      "you must really like plums!\n",
      "I knew you loved blueberries\n",
      "do you really like watermelon that much?\n"
     ]
    }
   ],
   "source": [
    "favorite_fruits = ['plums', 'blueberries', 'watermelon']\n",
    "if 'peaches' in favorite_fruits:\n",
    "    print(\"you love peaches\")\n",
    "if 'plums' in favorite_fruits:\n",
    "    print(\"you must really like plums!\")\n",
    "if 'apples' in favorite_fruits:\n",
    "    print(\"I guess you love apples\")\n",
    "if 'blueberries' in favorite_fruits:\n",
    "    print(\"I knew you loved blueberries\")\n",
    "if 'watermelon' in favorite_fruits:\n",
    "    print(\"do you really like watermelon that much?\")"
   ]
  },
  {
   "cell_type": "markdown",
   "id": "4a512c07",
   "metadata": {},
   "source": [
    "5-8"
   ]
  },
  {
   "cell_type": "code",
   "execution_count": 16,
   "id": "52da1221",
   "metadata": {},
   "outputs": [
    {
     "name": "stdout",
     "output_type": "stream",
     "text": [
      "Hello hazel_s, welcome back!\n",
      "Hello adrienne_m, welcome back!\n",
      "Hello admin, would you like to see a status report?\n",
      "Hello emma_c, welcome back!\n",
      "Hello jaden_f, welcome back!\n"
     ]
    }
   ],
   "source": [
    "users = ['hazel_s', 'adrienne_m', 'admin', 'emma_c', 'jaden_f']\n",
    "if users:\n",
    "    for user in users:\n",
    "        if user == 'admin':\n",
    "            print(\"Hello admin, would you like to see a status report?\")\n",
    "        else:\n",
    "            print(\"Hello \" + user + \", welcome back!\")\n",
    "else:\n",
    "    print(\"We need to find some users!\")\n",
    "    "
   ]
  },
  {
   "cell_type": "markdown",
   "id": "1d8d3c1a",
   "metadata": {},
   "source": [
    "5-9"
   ]
  },
  {
   "cell_type": "code",
   "execution_count": 17,
   "id": "c93d6ab3",
   "metadata": {},
   "outputs": [
    {
     "name": "stdout",
     "output_type": "stream",
     "text": [
      "We need to find some users!\n"
     ]
    }
   ],
   "source": [
    "users = []\n",
    "if users:\n",
    "    for user in users:\n",
    "        if user == 'admin':\n",
    "            print(\"Hello admin, would you like to see a status report?\")\n",
    "        else:\n",
    "            print(\"Hello \" + user + \", welcome back!\")\n",
    "else:\n",
    "    print(\"We need to find some users!\")"
   ]
  },
  {
   "cell_type": "markdown",
   "id": "641547ca",
   "metadata": {},
   "source": [
    "5-10"
   ]
  },
  {
   "cell_type": "code",
   "execution_count": 20,
   "id": "7b704876",
   "metadata": {},
   "outputs": [
    {
     "name": "stdout",
     "output_type": "stream",
     "text": [
      "username available\n",
      "username available\n",
      "username taken, try a different username\n",
      "username taken, try a different username\n",
      "username available\n"
     ]
    }
   ],
   "source": [
    "current_users = ['anu_m', 'katie_l', 'emma_c', 'hazel_s']\n",
    "new_users = ['adrienne_m', 'jaden_f', 'anu_m', 'Emma_c', 'jack_f']\n",
    "\n",
    "user = user.lower()\n",
    "for user in new_users:\n",
    "    if user.lower() in current_users:\n",
    "        print(\"username taken, try a different username\")\n",
    "    else:\n",
    "        print(\"username available\")"
   ]
  },
  {
   "cell_type": "code",
   "execution_count": null,
   "id": "f70dede1",
   "metadata": {},
   "outputs": [],
   "source": []
  }
 ],
 "metadata": {
  "kernelspec": {
   "display_name": "Python 3 (ipykernel)",
   "language": "python",
   "name": "python3"
  },
  "language_info": {
   "codemirror_mode": {
    "name": "ipython",
    "version": 3
   },
   "file_extension": ".py",
   "mimetype": "text/x-python",
   "name": "python",
   "nbconvert_exporter": "python",
   "pygments_lexer": "ipython3",
   "version": "3.11.4"
  }
 },
 "nbformat": 4,
 "nbformat_minor": 5
}
